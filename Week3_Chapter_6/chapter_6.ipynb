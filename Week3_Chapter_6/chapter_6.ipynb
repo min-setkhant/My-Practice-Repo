{
 "cells": [
  {
   "cell_type": "markdown",
   "id": "c1c29814",
   "metadata": {},
   "source": [
    "# Chapter 6: Data Loading, Storage, and File Formats\n",
    "## 6.1 Introduction\n",
    "Data analysis typically begins with loading data from various file formats into a suitable data structure for manipulation and analysis. Pandas provides robust tools for reading and writing data in multiple formats, making it easier to work with diverse datasets.     "
   ]
  },
  {
   "cell_type": "code",
   "execution_count": 1,
   "id": "652702d1",
   "metadata": {},
   "outputs": [
    {
     "name": "stdout",
     "output_type": "stream",
     "text": [
      "Requirement already satisfied: pandas in /Users/pyaethazin/anaconda3/lib/python3.12/site-packages (2.2.2)\n",
      "Requirement already satisfied: numpy>=1.26.0 in /Users/pyaethazin/anaconda3/lib/python3.12/site-packages (from pandas) (1.26.4)\n",
      "Requirement already satisfied: python-dateutil>=2.8.2 in /Users/pyaethazin/anaconda3/lib/python3.12/site-packages (from pandas) (2.9.0.post0)\n",
      "Requirement already satisfied: pytz>=2020.1 in /Users/pyaethazin/anaconda3/lib/python3.12/site-packages (from pandas) (2024.1)\n",
      "Requirement already satisfied: tzdata>=2022.7 in /Users/pyaethazin/anaconda3/lib/python3.12/site-packages (from pandas) (2023.3)\n",
      "Requirement already satisfied: six>=1.5 in /Users/pyaethazin/anaconda3/lib/python3.12/site-packages (from python-dateutil>=2.8.2->pandas) (1.17.0)\n"
     ]
    }
   ],
   "source": [
    "# At first we need to install pandas library\n",
    "!pip install pandas \n",
    "import pandas as pd \n",
    "# Pandas is a powerful data manipulation library in Python that provides data structures like Series and DataFrame for handling and analyzing data efficiently.     "
   ]
  },
  {
   "cell_type": "code",
   "execution_count": 2,
   "id": "f9c75b71",
   "metadata": {},
   "outputs": [],
   "source": [
    "#  Cell 1 — Imports & display settings\n",
    "import numpy as np\n",
    "import matplotlib.pyplot as plt\n",
    "import seaborn as sns\n",
    "import os\n",
    "import sys\n",
    "import re\n",
    "import json\n",
    "import requests\n",
    "from io import StringIO, BytesIO\n",
    "from zipfile import ZipFile\n",
    "from urllib.request import urlopen  \n"
   ]
  },
  {
   "cell_type": "markdown",
   "id": "b022cecd",
   "metadata": {},
   "source": [
    "## 6.2 Reading and Writing Files\n",
    "### 6.2.1 CSV Files\n",
    "CSV (Comma-Separated Values) files are one of the most common formats for storing tabular data. Pandas provides the `read_csv` function to read CSV files into a DataFrame and the `to_csv` method to write DataFrames back to CSV files.           \n",
    "### 6.2.2 Excel Files\n",
    "Pandas can read and write Excel files using the `read_excel` function and the `to_excel` method. This requires the `openpyxl` or `xlrd` library for reading Excel files.           \n",
    "### 6.2.3 JSON Files\n",
    "JSON (JavaScript Object Notation) is a lightweight data interchange format. Pandas provides the `read_json` function to read JSON files and the `to_json` method to write DataFrames to JSON format.           \n",
    "### 6.2.4 SQL Databases\n",
    "Pandas can interact with SQL databases using the `read_sql` function to read data from a SQL query or database table and the `to_sql` method to write DataFrames to a SQL database. This requires a database connection, typically established using libraries like `sqlite3` or `SQLAlchemy    `.           \n",
    "## 6.3 File Formats\n",
    "### 6.3.1 CSV (Comma-Separated Values)\n",
    "CSV files are plain text files that use commas to separate values. They are widely used for data    exchange due to their simplicity and compatibility with various software applications.      "
   ]
  },
  {
   "cell_type": "code",
   "execution_count": 3,
   "id": "45b0630f",
   "metadata": {},
   "outputs": [
    {
     "name": "stdout",
     "output_type": "stream",
     "text": [
      "Original DataFrame:\n",
      "      Name         City Class     Telephone                   Email  \\\n",
      "0    Alice     New York  10th  123-456-7890       alice@arizona.edu   \n",
      "1      Bob  Los Angeles  11th  987-654-3210         bob@arizona.edu   \n",
      "2  Charlie      Chicago  10th  555-666-7777  charlie@13.ariozna.edu   \n",
      "3    David      Houston  12th  444-555-6666       david@arizona.edu   \n",
      "4      Eva      Phoenix  11th  111-222-3333   evalauife@arizona.edu   \n",
      "\n",
      "   Scholarship Status  \n",
      "0                True  \n",
      "1               False  \n",
      "2                True  \n",
      "3               False  \n",
      "4                True  \n",
      "\n",
      "DataFrame Info:\n",
      "<class 'pandas.core.frame.DataFrame'>\n",
      "RangeIndex: 5 entries, 0 to 4\n",
      "Data columns (total 6 columns):\n",
      " #   Column              Non-Null Count  Dtype \n",
      "---  ------              --------------  ----- \n",
      " 0   Name                5 non-null      object\n",
      " 1   City                5 non-null      object\n",
      " 2   Class               5 non-null      object\n",
      " 3   Telephone           5 non-null      object\n",
      " 4   Email               5 non-null      object\n",
      " 5   Scholarship Status  5 non-null      bool  \n",
      "dtypes: bool(1), object(5)\n",
      "memory usage: 337.0+ bytes\n",
      "None\n",
      "\n",
      "DataFrame Description:\n",
      "         Name      City Class     Telephone              Email  \\\n",
      "count       5         5     5             5                  5   \n",
      "unique      5         5     3             5                  5   \n",
      "top     Alice  New York  10th  123-456-7890  alice@arizona.edu   \n",
      "freq        1         1     2             1                  1   \n",
      "\n",
      "       Scholarship Status  \n",
      "count                   5  \n",
      "unique                  2  \n",
      "top                  True  \n",
      "freq                    3  \n",
      "\n",
      "DataFrame Head:\n",
      "      Name         City Class     Telephone                   Email  \\\n",
      "0    Alice     New York  10th  123-456-7890       alice@arizona.edu   \n",
      "1      Bob  Los Angeles  11th  987-654-3210         bob@arizona.edu   \n",
      "2  Charlie      Chicago  10th  555-666-7777  charlie@13.ariozna.edu   \n",
      "3    David      Houston  12th  444-555-6666       david@arizona.edu   \n",
      "4      Eva      Phoenix  11th  111-222-3333   evalauife@arizona.edu   \n",
      "\n",
      "   Scholarship Status  \n",
      "0                True  \n",
      "1               False  \n",
      "2                True  \n",
      "3               False  \n",
      "4                True  \n",
      "\n",
      "DataFrame Tail:\n"
     ]
    }
   ],
   "source": [
    "# At first we need to create the dataframe to save the all data files types\n",
    "# So. We will create the student data with \"Name, City, Class, telephone, Email, Scholarship status\"  dataframe all the data files types.\n",
    "student_data = {\n",
    "    \"Name\": [\"Alice\", \"Bob\", \"Charlie\", \"David\", \"Eva\"],\n",
    "    \"City\": [\"New York\", \"Los Angeles\", \"Chicago\", \"Houston\", \" Phoenix\"],\n",
    "    \"Class\": [\"10th\", \"11th\", \"10th\", \"12th\", \"11th\"],      \n",
    "    \"Telephone\": [\"123-456-7890\", \"987-654-3210\", \"555-666-7777\", \"444-555-6666\", \"111-222-3333\"],\n",
    "    \"Email\": [\"alice@arizona.edu\", \"bob@arizona.edu\", \"charlie@13.ariozna.edu\", \"david@arizona.edu\", \"evalauife@arizona.edu\"],  \n",
    "    \"Scholarship Status\": [True, False, True, False, True]\n",
    "}       \n",
    "\n",
    "# Create a DataFrame\n",
    "df = pd.DataFrame(student_data)         \n",
    "print(\"Original DataFrame:\")\n",
    "print(df)   \n",
    "# Display the DataFrame     \n",
    "print(\"\\nDataFrame Info:\")\n",
    "print(df.info())\n",
    "print(\"\\nDataFrame Description:\")\n",
    "print(df.describe(include='all'))\n",
    "# Display the first few rows of the DataFrame\n",
    "print(\"\\nDataFrame Head:\")\n",
    "print(df.head())\n",
    "# Display the last few rows of the DataFrame\n",
    "print(\"\\nDataFrame Tail:\")      "
   ]
  },
  {
   "cell_type": "code",
   "execution_count": 4,
   "id": "f3cea32f",
   "metadata": {},
   "outputs": [
    {
     "name": "stdout",
     "output_type": "stream",
     "text": [
      "\n",
      "DataFrame saved as student_data.csv\n",
      "DataFrame saved as student_data.xlsx\n",
      "DataFrame saved as student_data.json\n",
      "DataFrame saved as student_data.parquet\n",
      "DataFrame saved as student_data.html\n",
      "DataFrame saved as student_data.h5\n"
     ]
    }
   ],
   "source": [
    "# Now is time to save our dataframe to different file types\n",
    "# 1. Save as CSV\n",
    "df.to_csv('student_data.csv', index=False)\n",
    "print(\"\\nDataFrame saved as student_data.csv\")\n",
    "# 2. Save as Excel\n",
    "df.to_excel('student_data.xlsx', index=False)\n",
    "print(\"DataFrame saved as student_data.xlsx\")\n",
    "# 3. Save as JSON \n",
    "df.to_json('student_data.json', orient='records', lines=True)\n",
    "print(\"DataFrame saved as student_data.json\")\n",
    "# 4. Save as Parquet     \n",
    "df.to_parquet('student_data.parquet', index=False)\n",
    "print(\"DataFrame saved as student_data.parquet\")\n",
    "# 5. Save as HTML\n",
    "df.to_html('student_data.html', index=False)\n",
    "print(\"DataFrame saved as student_data.html\")\n",
    "# 6. Save as HDF5\n",
    "df.to_hdf('student_data.h5', key='df', mode='w')\n",
    "print(\"DataFrame saved as student_data.h5\")                "
   ]
  },
  {
   "cell_type": "markdown",
   "id": "9620749d",
   "metadata": {},
   "source": [
    "### 6.4 Call the created our data\n"
   ]
  },
  {
   "cell_type": "code",
   "execution_count": 7,
   "id": "3377ce13",
   "metadata": {},
   "outputs": [
    {
     "name": "stdout",
     "output_type": "stream",
     "text": [
      "\n",
      "Data from student_data.csv:\n",
      "      Name         City Class     Telephone                   Email  \\\n",
      "0    Alice     New York  10th  123-456-7890       alice@arizona.edu   \n",
      "1      Bob  Los Angeles  11th  987-654-3210         bob@arizona.edu   \n",
      "2  Charlie      Chicago  10th  555-666-7777  charlie@13.ariozna.edu   \n",
      "3    David      Houston  12th  444-555-6666       david@arizona.edu   \n",
      "4      Eva      Phoenix  11th  111-222-3333   evalauife@arizona.edu   \n",
      "\n",
      "   Scholarship Status  \n",
      "0                True  \n",
      "1               False  \n",
      "2                True  \n",
      "3               False  \n",
      "4                True  \n",
      "\n",
      "Data Types from student_data.csv:\n"
     ]
    },
    {
     "data": {
      "application/vnd.microsoft.datawrangler.viewer.v0+json": {
       "columns": [
        {
         "name": "index",
         "rawType": "int64",
         "type": "integer"
        },
        {
         "name": "Name",
         "rawType": "object",
         "type": "string"
        },
        {
         "name": "City",
         "rawType": "object",
         "type": "string"
        },
        {
         "name": "Class",
         "rawType": "object",
         "type": "string"
        },
        {
         "name": "Telephone",
         "rawType": "object",
         "type": "string"
        },
        {
         "name": "Email",
         "rawType": "object",
         "type": "string"
        },
        {
         "name": "Scholarship Status",
         "rawType": "bool",
         "type": "boolean"
        }
       ],
       "ref": "f7377c50-97b8-4c5e-a865-9dfd6993a161",
       "rows": [
        [
         "0",
         "Alice",
         "New York",
         "10th",
         "123-456-7890",
         "alice@arizona.edu",
         "True"
        ],
        [
         "1",
         "Bob",
         "Los Angeles",
         "11th",
         "987-654-3210",
         "bob@arizona.edu",
         "False"
        ],
        [
         "2",
         "Charlie",
         "Chicago",
         "10th",
         "555-666-7777",
         "charlie@13.ariozna.edu",
         "True"
        ],
        [
         "3",
         "David",
         "Houston",
         "12th",
         "444-555-6666",
         "david@arizona.edu",
         "False"
        ],
        [
         "4",
         "Eva",
         " Phoenix",
         "11th",
         "111-222-3333",
         "evalauife@arizona.edu",
         "True"
        ]
       ],
       "shape": {
        "columns": 6,
        "rows": 5
       }
      },
      "text/html": [
       "<div>\n",
       "<style scoped>\n",
       "    .dataframe tbody tr th:only-of-type {\n",
       "        vertical-align: middle;\n",
       "    }\n",
       "\n",
       "    .dataframe tbody tr th {\n",
       "        vertical-align: top;\n",
       "    }\n",
       "\n",
       "    .dataframe thead th {\n",
       "        text-align: right;\n",
       "    }\n",
       "</style>\n",
       "<table border=\"1\" class=\"dataframe\">\n",
       "  <thead>\n",
       "    <tr style=\"text-align: right;\">\n",
       "      <th></th>\n",
       "      <th>Name</th>\n",
       "      <th>City</th>\n",
       "      <th>Class</th>\n",
       "      <th>Telephone</th>\n",
       "      <th>Email</th>\n",
       "      <th>Scholarship Status</th>\n",
       "    </tr>\n",
       "  </thead>\n",
       "  <tbody>\n",
       "    <tr>\n",
       "      <th>0</th>\n",
       "      <td>Alice</td>\n",
       "      <td>New York</td>\n",
       "      <td>10th</td>\n",
       "      <td>123-456-7890</td>\n",
       "      <td>alice@arizona.edu</td>\n",
       "      <td>True</td>\n",
       "    </tr>\n",
       "    <tr>\n",
       "      <th>1</th>\n",
       "      <td>Bob</td>\n",
       "      <td>Los Angeles</td>\n",
       "      <td>11th</td>\n",
       "      <td>987-654-3210</td>\n",
       "      <td>bob@arizona.edu</td>\n",
       "      <td>False</td>\n",
       "    </tr>\n",
       "    <tr>\n",
       "      <th>2</th>\n",
       "      <td>Charlie</td>\n",
       "      <td>Chicago</td>\n",
       "      <td>10th</td>\n",
       "      <td>555-666-7777</td>\n",
       "      <td>charlie@13.ariozna.edu</td>\n",
       "      <td>True</td>\n",
       "    </tr>\n",
       "    <tr>\n",
       "      <th>3</th>\n",
       "      <td>David</td>\n",
       "      <td>Houston</td>\n",
       "      <td>12th</td>\n",
       "      <td>444-555-6666</td>\n",
       "      <td>david@arizona.edu</td>\n",
       "      <td>False</td>\n",
       "    </tr>\n",
       "    <tr>\n",
       "      <th>4</th>\n",
       "      <td>Eva</td>\n",
       "      <td>Phoenix</td>\n",
       "      <td>11th</td>\n",
       "      <td>111-222-3333</td>\n",
       "      <td>evalauife@arizona.edu</td>\n",
       "      <td>True</td>\n",
       "    </tr>\n",
       "  </tbody>\n",
       "</table>\n",
       "</div>"
      ],
      "text/plain": [
       "      Name         City Class     Telephone                   Email  \\\n",
       "0    Alice     New York  10th  123-456-7890       alice@arizona.edu   \n",
       "1      Bob  Los Angeles  11th  987-654-3210         bob@arizona.edu   \n",
       "2  Charlie      Chicago  10th  555-666-7777  charlie@13.ariozna.edu   \n",
       "3    David      Houston  12th  444-555-6666       david@arizona.edu   \n",
       "4      Eva      Phoenix  11th  111-222-3333   evalauife@arizona.edu   \n",
       "\n",
       "   Scholarship Status  \n",
       "0                True  \n",
       "1               False  \n",
       "2                True  \n",
       "3               False  \n",
       "4                True  "
      ]
     },
     "execution_count": 7,
     "metadata": {},
     "output_type": "execute_result"
    }
   ],
   "source": [
    "# Call data from csv file\n",
    "student_data_csv = pd.read_csv('student_data.csv')\n",
    "print(\"\\nData from student_data.csv:\")\n",
    "print(student_data_csv)\n",
    "# Check the data type\n",
    "print(\"\\nData Types from student_data.csv:\")    \n",
    "\n",
    "student_data_csv.dtypes\n",
    "# Check for the some head rows\n",
    "student_data_csv.head()\n"
   ]
  },
  {
   "cell_type": "code",
   "execution_count": 8,
   "id": "cbc42faf",
   "metadata": {},
   "outputs": [
    {
     "name": "stdout",
     "output_type": "stream",
     "text": [
      "\n",
      "Data from student_data.xlsx:\n",
      "      Name         City Class     Telephone                   Email  \\\n",
      "0    Alice     New York  10th  123-456-7890       alice@arizona.edu   \n",
      "1      Bob  Los Angeles  11th  987-654-3210         bob@arizona.edu   \n",
      "2  Charlie      Chicago  10th  555-666-7777  charlie@13.ariozna.edu   \n",
      "3    David      Houston  12th  444-555-6666       david@arizona.edu   \n",
      "4      Eva      Phoenix  11th  111-222-3333   evalauife@arizona.edu   \n",
      "\n",
      "   Scholarship Status  \n",
      "0                True  \n",
      "1               False  \n",
      "2                True  \n",
      "3               False  \n",
      "4                True  \n",
      "\n",
      "Data Types from student_data.xlsx:\n"
     ]
    },
    {
     "data": {
      "application/vnd.microsoft.datawrangler.viewer.v0+json": {
       "columns": [
        {
         "name": "index",
         "rawType": "int64",
         "type": "integer"
        },
        {
         "name": "Name",
         "rawType": "object",
         "type": "string"
        },
        {
         "name": "City",
         "rawType": "object",
         "type": "string"
        },
        {
         "name": "Class",
         "rawType": "object",
         "type": "string"
        },
        {
         "name": "Telephone",
         "rawType": "object",
         "type": "string"
        },
        {
         "name": "Email",
         "rawType": "object",
         "type": "string"
        },
        {
         "name": "Scholarship Status",
         "rawType": "bool",
         "type": "boolean"
        }
       ],
       "ref": "abe24c24-6587-46bb-a4ae-7de8c7ed3dbc",
       "rows": [
        [
         "0",
         "Alice",
         "New York",
         "10th",
         "123-456-7890",
         "alice@arizona.edu",
         "True"
        ],
        [
         "1",
         "Bob",
         "Los Angeles",
         "11th",
         "987-654-3210",
         "bob@arizona.edu",
         "False"
        ],
        [
         "2",
         "Charlie",
         "Chicago",
         "10th",
         "555-666-7777",
         "charlie@13.ariozna.edu",
         "True"
        ],
        [
         "3",
         "David",
         "Houston",
         "12th",
         "444-555-6666",
         "david@arizona.edu",
         "False"
        ],
        [
         "4",
         "Eva",
         " Phoenix",
         "11th",
         "111-222-3333",
         "evalauife@arizona.edu",
         "True"
        ]
       ],
       "shape": {
        "columns": 6,
        "rows": 5
       }
      },
      "text/html": [
       "<div>\n",
       "<style scoped>\n",
       "    .dataframe tbody tr th:only-of-type {\n",
       "        vertical-align: middle;\n",
       "    }\n",
       "\n",
       "    .dataframe tbody tr th {\n",
       "        vertical-align: top;\n",
       "    }\n",
       "\n",
       "    .dataframe thead th {\n",
       "        text-align: right;\n",
       "    }\n",
       "</style>\n",
       "<table border=\"1\" class=\"dataframe\">\n",
       "  <thead>\n",
       "    <tr style=\"text-align: right;\">\n",
       "      <th></th>\n",
       "      <th>Name</th>\n",
       "      <th>City</th>\n",
       "      <th>Class</th>\n",
       "      <th>Telephone</th>\n",
       "      <th>Email</th>\n",
       "      <th>Scholarship Status</th>\n",
       "    </tr>\n",
       "  </thead>\n",
       "  <tbody>\n",
       "    <tr>\n",
       "      <th>0</th>\n",
       "      <td>Alice</td>\n",
       "      <td>New York</td>\n",
       "      <td>10th</td>\n",
       "      <td>123-456-7890</td>\n",
       "      <td>alice@arizona.edu</td>\n",
       "      <td>True</td>\n",
       "    </tr>\n",
       "    <tr>\n",
       "      <th>1</th>\n",
       "      <td>Bob</td>\n",
       "      <td>Los Angeles</td>\n",
       "      <td>11th</td>\n",
       "      <td>987-654-3210</td>\n",
       "      <td>bob@arizona.edu</td>\n",
       "      <td>False</td>\n",
       "    </tr>\n",
       "    <tr>\n",
       "      <th>2</th>\n",
       "      <td>Charlie</td>\n",
       "      <td>Chicago</td>\n",
       "      <td>10th</td>\n",
       "      <td>555-666-7777</td>\n",
       "      <td>charlie@13.ariozna.edu</td>\n",
       "      <td>True</td>\n",
       "    </tr>\n",
       "    <tr>\n",
       "      <th>3</th>\n",
       "      <td>David</td>\n",
       "      <td>Houston</td>\n",
       "      <td>12th</td>\n",
       "      <td>444-555-6666</td>\n",
       "      <td>david@arizona.edu</td>\n",
       "      <td>False</td>\n",
       "    </tr>\n",
       "    <tr>\n",
       "      <th>4</th>\n",
       "      <td>Eva</td>\n",
       "      <td>Phoenix</td>\n",
       "      <td>11th</td>\n",
       "      <td>111-222-3333</td>\n",
       "      <td>evalauife@arizona.edu</td>\n",
       "      <td>True</td>\n",
       "    </tr>\n",
       "  </tbody>\n",
       "</table>\n",
       "</div>"
      ],
      "text/plain": [
       "      Name         City Class     Telephone                   Email  \\\n",
       "0    Alice     New York  10th  123-456-7890       alice@arizona.edu   \n",
       "1      Bob  Los Angeles  11th  987-654-3210         bob@arizona.edu   \n",
       "2  Charlie      Chicago  10th  555-666-7777  charlie@13.ariozna.edu   \n",
       "3    David      Houston  12th  444-555-6666       david@arizona.edu   \n",
       "4      Eva      Phoenix  11th  111-222-3333   evalauife@arizona.edu   \n",
       "\n",
       "   Scholarship Status  \n",
       "0                True  \n",
       "1               False  \n",
       "2                True  \n",
       "3               False  \n",
       "4                True  "
      ]
     },
     "execution_count": 8,
     "metadata": {},
     "output_type": "execute_result"
    }
   ],
   "source": [
    "# Now is call from excel file\n",
    "student_data_excel = pd.read_excel('student_data.xlsx')\n",
    "print(\"\\nData from student_data.xlsx:\")\n",
    "print(student_data_excel)\n",
    "# Check the data type\n",
    "print(\"\\nData Types from student_data.xlsx:\")\n",
    "student_data_excel.dtypes\n",
    "# Check for the some head rows\n",
    "student_data_excel.head()       "
   ]
  },
  {
   "cell_type": "code",
   "execution_count": 9,
   "id": "03f15cf3",
   "metadata": {},
   "outputs": [
    {
     "name": "stdout",
     "output_type": "stream",
     "text": [
      "\n",
      "Data from student_data.json:\n",
      "      Name         City Class     Telephone                   Email  \\\n",
      "0    Alice     New York  10th  123-456-7890       alice@arizona.edu   \n",
      "1      Bob  Los Angeles  11th  987-654-3210         bob@arizona.edu   \n",
      "2  Charlie      Chicago  10th  555-666-7777  charlie@13.ariozna.edu   \n",
      "3    David      Houston  12th  444-555-6666       david@arizona.edu   \n",
      "4      Eva      Phoenix  11th  111-222-3333   evalauife@arizona.edu   \n",
      "\n",
      "   Scholarship Status  \n",
      "0                True  \n",
      "1               False  \n",
      "2                True  \n",
      "3               False  \n",
      "4                True  \n"
     ]
    }
   ],
   "source": [
    "# form json file\n",
    "student_data_json = pd.read_json('student_data.json', lines=True)\n",
    "print(\"\\nData from student_data.json:\")         \n",
    "print(student_data_json)        "
   ]
  },
  {
   "cell_type": "code",
   "execution_count": 10,
   "id": "afa0d364",
   "metadata": {},
   "outputs": [
    {
     "name": "stdout",
     "output_type": "stream",
     "text": [
      "\n",
      "Data from student_data.parquet:\n",
      "      Name         City Class     Telephone                   Email  \\\n",
      "0    Alice     New York  10th  123-456-7890       alice@arizona.edu   \n",
      "1      Bob  Los Angeles  11th  987-654-3210         bob@arizona.edu   \n",
      "2  Charlie      Chicago  10th  555-666-7777  charlie@13.ariozna.edu   \n",
      "3    David      Houston  12th  444-555-6666       david@arizona.edu   \n",
      "4      Eva      Phoenix  11th  111-222-3333   evalauife@arizona.edu   \n",
      "\n",
      "   Scholarship Status  \n",
      "0                True  \n",
      "1               False  \n",
      "2                True  \n",
      "3               False  \n",
      "4                True  \n",
      "\n",
      "Data Types from student_data.parquet:\n"
     ]
    },
    {
     "data": {
      "application/vnd.microsoft.datawrangler.viewer.v0+json": {
       "columns": [
        {
         "name": "index",
         "rawType": "int64",
         "type": "integer"
        },
        {
         "name": "Name",
         "rawType": "object",
         "type": "string"
        },
        {
         "name": "City",
         "rawType": "object",
         "type": "string"
        },
        {
         "name": "Class",
         "rawType": "object",
         "type": "string"
        },
        {
         "name": "Telephone",
         "rawType": "object",
         "type": "string"
        },
        {
         "name": "Email",
         "rawType": "object",
         "type": "string"
        },
        {
         "name": "Scholarship Status",
         "rawType": "bool",
         "type": "boolean"
        }
       ],
       "ref": "94311b02-5438-452a-9864-f471d0f3dab4",
       "rows": [
        [
         "0",
         "Alice",
         "New York",
         "10th",
         "123-456-7890",
         "alice@arizona.edu",
         "True"
        ],
        [
         "1",
         "Bob",
         "Los Angeles",
         "11th",
         "987-654-3210",
         "bob@arizona.edu",
         "False"
        ],
        [
         "2",
         "Charlie",
         "Chicago",
         "10th",
         "555-666-7777",
         "charlie@13.ariozna.edu",
         "True"
        ],
        [
         "3",
         "David",
         "Houston",
         "12th",
         "444-555-6666",
         "david@arizona.edu",
         "False"
        ],
        [
         "4",
         "Eva",
         " Phoenix",
         "11th",
         "111-222-3333",
         "evalauife@arizona.edu",
         "True"
        ]
       ],
       "shape": {
        "columns": 6,
        "rows": 5
       }
      },
      "text/html": [
       "<div>\n",
       "<style scoped>\n",
       "    .dataframe tbody tr th:only-of-type {\n",
       "        vertical-align: middle;\n",
       "    }\n",
       "\n",
       "    .dataframe tbody tr th {\n",
       "        vertical-align: top;\n",
       "    }\n",
       "\n",
       "    .dataframe thead th {\n",
       "        text-align: right;\n",
       "    }\n",
       "</style>\n",
       "<table border=\"1\" class=\"dataframe\">\n",
       "  <thead>\n",
       "    <tr style=\"text-align: right;\">\n",
       "      <th></th>\n",
       "      <th>Name</th>\n",
       "      <th>City</th>\n",
       "      <th>Class</th>\n",
       "      <th>Telephone</th>\n",
       "      <th>Email</th>\n",
       "      <th>Scholarship Status</th>\n",
       "    </tr>\n",
       "  </thead>\n",
       "  <tbody>\n",
       "    <tr>\n",
       "      <th>0</th>\n",
       "      <td>Alice</td>\n",
       "      <td>New York</td>\n",
       "      <td>10th</td>\n",
       "      <td>123-456-7890</td>\n",
       "      <td>alice@arizona.edu</td>\n",
       "      <td>True</td>\n",
       "    </tr>\n",
       "    <tr>\n",
       "      <th>1</th>\n",
       "      <td>Bob</td>\n",
       "      <td>Los Angeles</td>\n",
       "      <td>11th</td>\n",
       "      <td>987-654-3210</td>\n",
       "      <td>bob@arizona.edu</td>\n",
       "      <td>False</td>\n",
       "    </tr>\n",
       "    <tr>\n",
       "      <th>2</th>\n",
       "      <td>Charlie</td>\n",
       "      <td>Chicago</td>\n",
       "      <td>10th</td>\n",
       "      <td>555-666-7777</td>\n",
       "      <td>charlie@13.ariozna.edu</td>\n",
       "      <td>True</td>\n",
       "    </tr>\n",
       "    <tr>\n",
       "      <th>3</th>\n",
       "      <td>David</td>\n",
       "      <td>Houston</td>\n",
       "      <td>12th</td>\n",
       "      <td>444-555-6666</td>\n",
       "      <td>david@arizona.edu</td>\n",
       "      <td>False</td>\n",
       "    </tr>\n",
       "    <tr>\n",
       "      <th>4</th>\n",
       "      <td>Eva</td>\n",
       "      <td>Phoenix</td>\n",
       "      <td>11th</td>\n",
       "      <td>111-222-3333</td>\n",
       "      <td>evalauife@arizona.edu</td>\n",
       "      <td>True</td>\n",
       "    </tr>\n",
       "  </tbody>\n",
       "</table>\n",
       "</div>"
      ],
      "text/plain": [
       "      Name         City Class     Telephone                   Email  \\\n",
       "0    Alice     New York  10th  123-456-7890       alice@arizona.edu   \n",
       "1      Bob  Los Angeles  11th  987-654-3210         bob@arizona.edu   \n",
       "2  Charlie      Chicago  10th  555-666-7777  charlie@13.ariozna.edu   \n",
       "3    David      Houston  12th  444-555-6666       david@arizona.edu   \n",
       "4      Eva      Phoenix  11th  111-222-3333   evalauife@arizona.edu   \n",
       "\n",
       "   Scholarship Status  \n",
       "0                True  \n",
       "1               False  \n",
       "2                True  \n",
       "3               False  \n",
       "4                True  "
      ]
     },
     "execution_count": 10,
     "metadata": {},
     "output_type": "execute_result"
    }
   ],
   "source": [
    "# now is call from parquet file \n",
    "student_data_parquet = pd.read_parquet('student_data.parquet')\n",
    "print(\"\\nData from student_data.parquet:\")         \n",
    "print(student_data_parquet)        \n",
    "# Check the data type\n",
    "print(\"\\nData Types from student_data.parquet:\")\n",
    "student_data_parquet.dtypes\n",
    "# Check for the some head rows\n",
    "student_data_parquet.head() "
   ]
  },
  {
   "cell_type": "markdown",
   "id": "4c721333",
   "metadata": {},
   "source": [
    "## 6.5 Handling Missing Data\n",
    "Missing data is a common issue in real-world datasets. Pandas provides several methods to handle missing data, including:\n",
    "- `isnull()` and `notnull()`: Functions to detect missing values\n",
    "- `dropna()`: Method to remove rows or columns with missing values\n",
    "- `fillna()`: Method to fill missing values with a specified value or method (e"
   ]
  },
  {
   "cell_type": "code",
   "execution_count": 11,
   "id": "178f155a",
   "metadata": {},
   "outputs": [
    {
     "name": "stdout",
     "output_type": "stream",
     "text": [
      "Internet Use Time DataFrame with Missing Values:\n",
      "      Name  Internet Use Time (hours/week)\n",
      "0    Alice                            15.0\n",
      "1      Bob                            20.0\n",
      "2  Charlie                             NaN\n",
      "3    David                            25.0\n",
      "4      Eva                            30.0\n",
      "5    Frank                             NaN\n",
      "6    Grace                            10.0\n",
      "7   Hannah                             5.0\n",
      "8      Ian                             NaN\n",
      "9     Jack                            40.0\n"
     ]
    }
   ],
   "source": [
    "# let's create some artificial internet usetime data for to handle the missing data\n",
    "internet_use_time_data = {\n",
    "    \"Name\": [\"Alice\", \"Bob\", \"Charlie\", \"David\", \"Eva\", \"Frank\", \"Grace\", \"Hannah\", \"Ian\", \"Jack\"],\n",
    "    \"Internet Use Time (hours/week)\": [15, 20, np.nan, 25, 30, np.nan, 10, 5, np.nan, 40]\n",
    "}                       \n",
    "internet_use_df = pd.DataFrame(internet_use_time_data)\n",
    "print(\"Internet Use Time DataFrame with Missing Values:\")\n",
    "print(internet_use_df)  "
   ]
  },
  {
   "cell_type": "markdown",
   "id": "7eb44180",
   "metadata": {},
   "source": [
    "## Summary for Chapter 6 \n",
    "### \"Data Loading, Storage, and File Formats\"\n",
    "\n",
    "In this chapter, we explored the essential techniques for loading, storing, and handling data using Pandas. We covered various file formats such as CSV, Excel, JSON, and SQL databases, demonstrating how to read and write data efficiently. Additionally, we addressed the common challenge of missing data and introduced methods to detect, remove, or fill in missing values. Mastering these skills is crucial for effective data analysis and ensures that you can work with diverse datasets seamlessly."
   ]
  }
 ],
 "metadata": {
  "kernelspec": {
   "display_name": "base",
   "language": "python",
   "name": "python3"
  },
  "language_info": {
   "codemirror_mode": {
    "name": "ipython",
    "version": 3
   },
   "file_extension": ".py",
   "mimetype": "text/x-python",
   "name": "python",
   "nbconvert_exporter": "python",
   "pygments_lexer": "ipython3",
   "version": "3.12.3"
  }
 },
 "nbformat": 4,
 "nbformat_minor": 5
}
