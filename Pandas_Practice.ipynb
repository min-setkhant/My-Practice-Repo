{
 "cells": [
  {
   "cell_type": "markdown",
   "id": "fc96106d-f3ca-4191-8689-628a170d0be3",
   "metadata": {},
   "source": [
    "# Practice Pandas with Sample Sales dataset\n",
    "### Author: Min Set Khant\n",
    "### Date: 3 September 2025"
   ]
  },
  {
   "cell_type": "markdown",
   "id": "c657d61d-f1d1-43b9-9ad5-7258f3ff25ce",
   "metadata": {},
   "source": [
    "**Today I am doing Practice the \"Pandas Libiries\" in Python with the sample sale dataset.**"
   ]
  },
  {
   "cell_type": "code",
   "execution_count": 51,
   "id": "4bbedb3f-bf14-42f6-b87e-8321e9f3b45c",
   "metadata": {},
   "outputs": [],
   "source": [
    "#python code\n",
    "#At first we need to call the necessary libraries\n",
    "\n",
    "import pandas as pd\n"
   ]
  },
  {
   "cell_type": "markdown",
   "id": "8976f587-e4dc-45f6-ad0a-7fdb1ee64fa4",
   "metadata": {},
   "source": [
    "And then, We will create the sample saledata set"
   ]
  },
  {
   "cell_type": "code",
   "execution_count": 52,
   "id": "933f7475-31d6-4413-8f2f-d97ed1f8bd1c",
   "metadata": {},
   "outputs": [
    {
     "name": "stdout",
     "output_type": "stream",
     "text": [
      "practice_sales.csv created successfully!\n"
     ]
    }
   ],
   "source": [
    "#Create sale dataset\n",
    "# Create a sample dataset as a dictionary\n",
    "data = {\n",
    "    \"SalesID\": [1,2,3,4,5,6,7,8,9,10],\n",
    "    \"Product\": [\"Laptop\",\"Mouse\",\"Shirt\",\"Phone\",\"Shoes\",\"Watch\",\"Bag\",\"Tablet\",\"Jacket\",\"Keyboard\"],\n",
    "    \"Category\": [\"Electronics\",\"Electronics\",\"Clothing\",\"Electronics\",\"Clothing\",\"Accessories\",\"Accessories\",\"Electronics\",\"Clothing\",\"Electronics\"],\n",
    "    \"Price\": [800,20,25,600,50,100,45,300,80,35],\n",
    "    \"Quantity\": [1,2,3,1,2,1,4,2,1,3],\n",
    "    \"Customer\": [\"John\",\"Anna\",\"Mike\",\"Linda\",\"John\",\"Anna\",\"Mike\",\"Linda\",\"John\",\"Anna\"],\n",
    "    \"Region\": [\"North\",\"South\",\"East\",\"West\",\"North\",\"South\",\"East\",\"West\",\"North\",\"South\"],\n",
    "    \"Date\": [\"2025-01-01\",\"2025-01-02\",\"2025-01-02\",\"2025-01-03\",\"2025-01-04\",\n",
    "             \"2025-01-04\",\"2025-01-05\",\"2025-01-06\",\"2025-01-06\",\"2025-01-07\"]\n",
    "}\n",
    "\n",
    "# Convert to dataframe\n",
    "\n",
    "df = pd.DataFrame(data)\n",
    "\n",
    "# Save to CSV file\n",
    "\n",
    "df.to_csv(\"practice_sales.csv\", index=False)\n",
    "print(\"practice_sales.csv created successfully!\")\n",
    "\n"
   ]
  },
  {
   "cell_type": "markdown",
   "id": "7228bdd7-7970-4d9f-b293-6f0e057b267a",
   "metadata": {},
   "source": [
    "After that We will reall our practice sale data to use"
   ]
  },
  {
   "cell_type": "code",
   "execution_count": 53,
   "id": "e2b492d9-084b-4fdd-8f93-0aefa4d36ab5",
   "metadata": {},
   "outputs": [
    {
     "name": "stdout",
     "output_type": "stream",
     "text": [
      "<class 'pandas.core.frame.DataFrame'>\n",
      "RangeIndex: 10 entries, 0 to 9\n",
      "Data columns (total 8 columns):\n",
      " #   Column    Non-Null Count  Dtype \n",
      "---  ------    --------------  ----- \n",
      " 0   SalesID   10 non-null     int64 \n",
      " 1   Product   10 non-null     object\n",
      " 2   Category  10 non-null     object\n",
      " 3   Price     10 non-null     int64 \n",
      " 4   Quantity  10 non-null     int64 \n",
      " 5   Customer  10 non-null     object\n",
      " 6   Region    10 non-null     object\n",
      " 7   Date      10 non-null     object\n",
      "dtypes: int64(3), object(5)\n",
      "memory usage: 772.0+ bytes\n"
     ]
    },
    {
     "data": {
      "text/html": [
       "<div>\n",
       "<style scoped>\n",
       "    .dataframe tbody tr th:only-of-type {\n",
       "        vertical-align: middle;\n",
       "    }\n",
       "\n",
       "    .dataframe tbody tr th {\n",
       "        vertical-align: top;\n",
       "    }\n",
       "\n",
       "    .dataframe thead th {\n",
       "        text-align: right;\n",
       "    }\n",
       "</style>\n",
       "<table border=\"1\" class=\"dataframe\">\n",
       "  <thead>\n",
       "    <tr style=\"text-align: right;\">\n",
       "      <th></th>\n",
       "      <th>SalesID</th>\n",
       "      <th>Price</th>\n",
       "      <th>Quantity</th>\n",
       "    </tr>\n",
       "  </thead>\n",
       "  <tbody>\n",
       "    <tr>\n",
       "      <th>count</th>\n",
       "      <td>10.00000</td>\n",
       "      <td>10.000000</td>\n",
       "      <td>10.000000</td>\n",
       "    </tr>\n",
       "    <tr>\n",
       "      <th>mean</th>\n",
       "      <td>5.50000</td>\n",
       "      <td>205.500000</td>\n",
       "      <td>2.000000</td>\n",
       "    </tr>\n",
       "    <tr>\n",
       "      <th>std</th>\n",
       "      <td>3.02765</td>\n",
       "      <td>277.062468</td>\n",
       "      <td>1.054093</td>\n",
       "    </tr>\n",
       "    <tr>\n",
       "      <th>min</th>\n",
       "      <td>1.00000</td>\n",
       "      <td>20.000000</td>\n",
       "      <td>1.000000</td>\n",
       "    </tr>\n",
       "    <tr>\n",
       "      <th>25%</th>\n",
       "      <td>3.25000</td>\n",
       "      <td>37.500000</td>\n",
       "      <td>1.000000</td>\n",
       "    </tr>\n",
       "    <tr>\n",
       "      <th>50%</th>\n",
       "      <td>5.50000</td>\n",
       "      <td>65.000000</td>\n",
       "      <td>2.000000</td>\n",
       "    </tr>\n",
       "    <tr>\n",
       "      <th>75%</th>\n",
       "      <td>7.75000</td>\n",
       "      <td>250.000000</td>\n",
       "      <td>2.750000</td>\n",
       "    </tr>\n",
       "    <tr>\n",
       "      <th>max</th>\n",
       "      <td>10.00000</td>\n",
       "      <td>800.000000</td>\n",
       "      <td>4.000000</td>\n",
       "    </tr>\n",
       "  </tbody>\n",
       "</table>\n",
       "</div>"
      ],
      "text/plain": [
       "        SalesID       Price   Quantity\n",
       "count  10.00000   10.000000  10.000000\n",
       "mean    5.50000  205.500000   2.000000\n",
       "std     3.02765  277.062468   1.054093\n",
       "min     1.00000   20.000000   1.000000\n",
       "25%     3.25000   37.500000   1.000000\n",
       "50%     5.50000   65.000000   2.000000\n",
       "75%     7.75000  250.000000   2.750000\n",
       "max    10.00000  800.000000   4.000000"
      ]
     },
     "execution_count": 53,
     "metadata": {},
     "output_type": "execute_result"
    }
   ],
   "source": [
    "# Load the sample sale dataset\n",
    "\n",
    "sales = pd.read_csv(\"practice_sales.csv\")\n",
    "\n",
    "#To see the top rows of the dataset\n",
    "sales.head()\n",
    "\n",
    "#To see the buttom of the dataset\n",
    "sales.tail()\n",
    "\n",
    "#To see the datatype of our data\n",
    "sales.info()\n",
    "\n",
    "#To see the data summary Stastics\n",
    "sales.describe()\n",
    "\n"
   ]
  },
  {
   "cell_type": "markdown",
   "id": "28d8ab86-a498-4a6e-a714-417ff3c70cf3",
   "metadata": {},
   "source": [
    "**This time is to Explore Data with Pandas**"
   ]
  },
  {
   "cell_type": "code",
   "execution_count": 54,
   "id": "bb316f48-d031-41db-84fe-f6917c6cd8d7",
   "metadata": {},
   "outputs": [
    {
     "name": "stdout",
     "output_type": "stream",
     "text": [
      "Unique Categories: ['Electronics' 'Clothing' 'Accessories']\n",
      "\n",
      "Product counts by Category:\n",
      "Category\n",
      "Electronics    5\n",
      "Clothing       3\n",
      "Accessories    2\n",
      "Name: count, dtype: int64\n"
     ]
    }
   ],
   "source": [
    "# To view unique values and count\n",
    "\n",
    "# Unique categories\n",
    "print(\"Unique Categories:\", sales[\"Category\"].unique())\n",
    "\n",
    "# Count of products in each category\n",
    "\n",
    "print(\"\\nProduct counts by Category:\")\n",
    "print(sales[\"Category\"].value_counts())\n"
   ]
  },
  {
   "cell_type": "markdown",
   "id": "77cf1bfc-3e18-4056-b970-ae65c3b2d052",
   "metadata": {},
   "source": [
    "*Now is time to \"Sorting\"*"
   ]
  },
  {
   "cell_type": "code",
   "execution_count": 55,
   "id": "433e4a1f-9f90-4815-a276-aafa43705f39",
   "metadata": {},
   "outputs": [
    {
     "name": "stdout",
     "output_type": "stream",
     "text": [
      "   SalesID   Product     Category  Price  Quantity Customer Region        Date\n",
      "0        1    Laptop  Electronics    800         1     John  North  2025-01-01\n",
      "3        4     Phone  Electronics    600         1    Linda   West  2025-01-03\n",
      "7        8    Tablet  Electronics    300         2    Linda   West  2025-01-06\n",
      "5        6     Watch  Accessories    100         1     Anna  South  2025-01-04\n",
      "8        9    Jacket     Clothing     80         1     John  North  2025-01-06\n",
      "4        5     Shoes     Clothing     50         2     John  North  2025-01-04\n",
      "6        7       Bag  Accessories     45         4     Mike   East  2025-01-05\n",
      "9       10  Keyboard  Electronics     35         3     Anna  South  2025-01-07\n",
      "2        3     Shirt     Clothing     25         3     Mike   East  2025-01-02\n",
      "1        2     Mouse  Electronics     20         2     Anna  South  2025-01-02\n"
     ]
    }
   ],
   "source": [
    "# Sort product by price decending\n",
    "\n",
    "sorted_sales = sales.sort_values(by=\"Price\", ascending=False)\n",
    "print(sorted_sales)\n",
    "\n",
    "\n",
    "\n"
   ]
  },
  {
   "cell_type": "markdown",
   "id": "86e9d7f8-47d1-4311-b3c9-6776bb70de52",
   "metadata": {},
   "source": [
    "**Now is time to find \"Missing Values\"**\n"
   ]
  },
  {
   "cell_type": "code",
   "execution_count": 56,
   "id": "7839d172-9f3c-437f-8be1-5abd49adf085",
   "metadata": {},
   "outputs": [
    {
     "name": "stdout",
     "output_type": "stream",
     "text": [
      "\n",
      "Missing values:\n"
     ]
    },
    {
     "data": {
      "text/plain": [
       "SalesID     0\n",
       "Product     0\n",
       "Category    0\n",
       "Price       0\n",
       "Quantity    0\n",
       "Customer    0\n",
       "Region      0\n",
       "Date        0\n",
       "dtype: int64"
      ]
     },
     "execution_count": 56,
     "metadata": {},
     "output_type": "execute_result"
    }
   ],
   "source": [
    "# Find the missing values\n",
    "\n",
    "print(\"\\nMissing values:\")\n",
    "\n",
    "sales.isna().sum()"
   ]
  },
  {
   "cell_type": "markdown",
   "id": "7a2dc463-bdd5-4530-97bc-2889b432082f",
   "metadata": {},
   "source": [
    "**Filtering the Data**"
   ]
  },
  {
   "cell_type": "code",
   "execution_count": 57,
   "id": "ab9f676b-3b48-4dfa-8660-c1f06b10894b",
   "metadata": {},
   "outputs": [
    {
     "name": "stdout",
     "output_type": "stream",
     "text": [
      "\n",
      "Products with Price more than 100:\n",
      "   SalesID Product     Category  Price  Quantity Customer Region        Date\n",
      "0        1  Laptop  Electronics    800         1     John  North  2025-01-01\n",
      "3        4   Phone  Electronics    600         1    Linda   West  2025-01-03\n",
      "7        8  Tablet  Electronics    300         2    Linda   West  2025-01-06\n"
     ]
    }
   ],
   "source": [
    "# Show rows where Price more than 100\n",
    "print(\"\\nProducts with Price more than 100:\")\n",
    "print(sales[sales[\"Price\"] > 100])\n"
   ]
  },
  {
   "cell_type": "code",
   "execution_count": 58,
   "id": "b83bf42e-e7fe-4989-a812-1188d4a7ce17",
   "metadata": {},
   "outputs": [
    {
     "name": "stdout",
     "output_type": "stream",
     "text": [
      "\n",
      "Product and Price columns:\n",
      "    Product  Price\n",
      "0    Laptop    800\n",
      "1     Mouse     20\n",
      "2     Shirt     25\n",
      "3     Phone    600\n",
      "4     Shoes     50\n",
      "5     Watch    100\n",
      "6       Bag     45\n",
      "7    Tablet    300\n",
      "8    Jacket     80\n",
      "9  Keyboard     35\n"
     ]
    }
   ],
   "source": [
    "# Show only Product and Price columns\n",
    "print(\"\\nProduct and Price columns:\")\n",
    "print(sales[[\"Product\",\"Price\"]])"
   ]
  },
  {
   "cell_type": "code",
   "execution_count": 59,
   "id": "6cf5528c-14e1-402f-8654-cf5452e07821",
   "metadata": {},
   "outputs": [
    {
     "name": "stdout",
     "output_type": "stream",
     "text": [
      "   SalesID   Product\n",
      "0        1    Laptop\n",
      "1        2     Mouse\n",
      "2        3     Shirt\n",
      "3        4     Phone\n",
      "4        5     Shoes\n",
      "5        6     Watch\n",
      "6        7       Bag\n",
      "7        8    Tablet\n",
      "8        9    Jacket\n",
      "9       10  Keyboard\n"
     ]
    }
   ],
   "source": [
    "#Show the ID and Product Name\n",
    "\n",
    "print(sales[[\"SalesID\", \"Product\"]])"
   ]
  },
  {
   "cell_type": "code",
   "execution_count": 60,
   "id": "87023c37-e1bc-4472-9ecf-97655d387796",
   "metadata": {},
   "outputs": [
    {
     "name": "stdout",
     "output_type": "stream",
     "text": [
      "   SalesID   Product  Price\n",
      "0        1    Laptop    800\n",
      "1        2     Mouse     20\n",
      "2        3     Shirt     25\n",
      "3        4     Phone    600\n",
      "4        5     Shoes     50\n",
      "5        6     Watch    100\n",
      "6        7       Bag     45\n",
      "7        8    Tablet    300\n",
      "8        9    Jacket     80\n",
      "9       10  Keyboard     35\n"
     ]
    }
   ],
   "source": [
    "#Show the ID, Product Name & Price\n",
    "\n",
    "print(sales[[\"SalesID\", \"Product\", \"Price\"]])"
   ]
  },
  {
   "cell_type": "markdown",
   "id": "1d9f727c-a808-4886-884a-0b86b4378596",
   "metadata": {},
   "source": [
    "**Grouping and Aggregation**"
   ]
  },
  {
   "cell_type": "code",
   "execution_count": 61,
   "id": "c3b9306e-93ed-45cc-b63d-15ea28e1bb73",
   "metadata": {},
   "outputs": [
    {
     "name": "stdout",
     "output_type": "stream",
     "text": [
      "\n",
      "Total sales by Category:\n",
      "Category\n",
      "Accessories     280\n",
      "Clothing        255\n",
      "Electronics    2145\n",
      "Name: Total, dtype: int64\n"
     ]
    }
   ],
   "source": [
    "# Find the total sales\n",
    "\n",
    "sales[\"Total\"] = sales[\"Price\"] * sales[\"Quantity\"]\n",
    "\n",
    "# Total sales by Category\n",
    "print(\"\\nTotal sales by Category:\")\n",
    "print(sales.groupby(\"Category\")[\"Total\"].sum())\n",
    "\n"
   ]
  },
  {
   "cell_type": "code",
   "execution_count": 62,
   "id": "b50b4357-8007-4b74-901d-4e562a089c7e",
   "metadata": {},
   "outputs": [
    {
     "name": "stdout",
     "output_type": "stream",
     "text": [
      "\n",
      "Average Price by Region:\n",
      "Region\n",
      "East      35.000000\n",
      "North    310.000000\n",
      "South     51.666667\n",
      "West     450.000000\n",
      "Name: Price, dtype: float64\n"
     ]
    }
   ],
   "source": [
    "# Average price by Region\n",
    "print(\"\\nAverage Price by Region:\")\n",
    "print(sales.groupby(\"Region\")[\"Price\"].mean())"
   ]
  },
  {
   "cell_type": "markdown",
   "id": "9d985050-fec5-4538-8c95-708ea4529b18",
   "metadata": {},
   "source": [
    "**Outlier Detection (IQR Method)**"
   ]
  },
  {
   "cell_type": "markdown",
   "id": "0a971dbf-6ba3-4de9-b60c-181c877eb38f",
   "metadata": {},
   "source": [
    "Q1 = sales[\"Price\"].quantile(0.25)\n",
    "Q3 = sales[\"Price\"].quantile(0.75)\n",
    "IQR = Q3 - Q1\n",
    "\n",
    "low = Q1 - 1.5 * IQR\n",
    "high = Q3 + 1.5 * IQR\n",
    "\n",
    "outliers = sales[(sales[\"Price\"] < low) | (sales[\"Price\"] > high)]\n",
    "print(\"\\nOutliers in Price:\")\n",
    "print(outliers)"
   ]
  },
  {
   "cell_type": "markdown",
   "id": "cdfb50c7-93c0-48ec-87f2-93b9a0c6d35c",
   "metadata": {},
   "source": [
    "**Data Opeation**"
   ]
  },
  {
   "cell_type": "code",
   "execution_count": 63,
   "id": "4180216d-f5a0-4eeb-bcc8-fa98ef763802",
   "metadata": {},
   "outputs": [
    {
     "name": "stdout",
     "output_type": "stream",
     "text": [
      "\n",
      "Sales after Jan 4, 2025:\n",
      "   SalesID   Product     Category  Price  Quantity Customer Region       Date  \\\n",
      "6        7       Bag  Accessories     45         4     Mike   East 2025-01-05   \n",
      "7        8    Tablet  Electronics    300         2    Linda   West 2025-01-06   \n",
      "8        9    Jacket     Clothing     80         1     John  North 2025-01-06   \n",
      "9       10  Keyboard  Electronics     35         3     Anna  South 2025-01-07   \n",
      "\n",
      "   Total  \n",
      "6    180  \n",
      "7    600  \n",
      "8     80  \n",
      "9    105  \n"
     ]
    }
   ],
   "source": [
    "# Convert Date column to datetime\n",
    "sales[\"Date\"] = pd.to_datetime(sales[\"Date\"])\n",
    "\n",
    "# Filter sales after Jan 4, 2025\n",
    "print(\"\\nSales after Jan 4, 2025:\")\n",
    "print(sales[sales[\"Date\"] > \"2025-01-04\"])"
   ]
  },
  {
   "cell_type": "markdown",
   "id": "e94bc5fd-fc65-4828-ae0e-ef12ee4fc31a",
   "metadata": {},
   "source": [
    "**Now is time to Visulize Some Plots**"
   ]
  },
  {
   "cell_type": "code",
   "execution_count": 64,
   "id": "963aa5cc-20f7-4e77-9f18-7a783b41096e",
   "metadata": {},
   "outputs": [],
   "source": [
    "#Call the necesary libraries for Ploting\n",
    "\n",
    "import seaborn as sns #for plotting\n",
    "import matplotlib.pyplot as plt #for labeles and title\n"
   ]
  },
  {
   "cell_type": "code",
   "execution_count": 65,
   "id": "16e802aa-8ebf-4540-ac6f-c6d2c36a2dab",
   "metadata": {},
   "outputs": [
    {
     "data": {
      "image/png": "[encoded data removed]",
      "text/plain": [
       "<Figure size 640x480 with 1 Axes>"
      ]
     },
     "metadata": {},
     "output_type": "display_data"
    }
   ],
   "source": [
    "#Develpe the boxplot\n",
    "\n",
    "sns.boxplot(data= sales, x='Price')\n",
    "plt.title(\"Boxplot of Price\")\n",
    "plt.xlabel(\"price\")\n",
    "plt.show()"
   ]
  },
  {
   "cell_type": "markdown",
   "id": "e5866167-59a0-49a9-ba5a-3e616cbb8975",
   "metadata": {},
   "source": [
    "**This is the practice tasks of \"Panda as pd\" in python with Sample Sales dataset**"
   ]
  }
 ],
 "metadata": {
  "kernelspec": {
   "display_name": "Python 3 (ipykernel)",
   "language": "python",
   "name": "python3"
  },
  "language_info": {
   "codemirror_mode": {
    "name": "ipython",
    "version": 3
   },
   "file_extension": ".py",
   "mimetype": "text/x-python",
   "name": "python",
   "nbconvert_exporter": "python",
   "pygments_lexer": "ipython3",
   "version": "3.12.4"
  }
 },
 "nbformat": 4,
 "nbformat_minor": 5
}
