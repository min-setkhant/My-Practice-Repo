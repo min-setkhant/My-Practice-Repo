{
 "cells": [
  {
   "cell_type": "markdown",
   "id": "39e5200f-b016-4e27-bdb7-dcdf8207573d",
   "metadata": {},
   "source": [
    "# Math for Data Science\n",
    "## Author - Min Set Khant\n",
    "## Date - 7th September 2025\n"
   ]
  },
  {
   "cell_type": "code",
   "execution_count": 2,
   "id": "195698d0-9504-48e2-9098-657a7898b69d",
   "metadata": {},
   "outputs": [],
   "source": [
    "# math_for_data_science_with_sales.py\n",
    "\n",
    "\n",
    "import numpy as np\n",
    "import pandas as pd\n",
    "import scipy.stats as stats\n",
    "import matplotlib.pyplot as plt\n",
    "import seaborn as sns\n",
    "from sklearn.linear_model import LinearRegression\n",
    "from sklearn.decomposition import PCA\n",
    "import sympy as sp"
   ]
  },
  {
   "cell_type": "markdown",
   "id": "ce8f59a5-08df-490d-900d-5bda25c44d11",
   "metadata": {},
   "source": [
    "**At first, let's create the sample sale data sample set for analysis**"
   ]
  },
  {
   "cell_type": "code",
   "execution_count": 3,
   "id": "4942ef2a-f8e3-438c-8dbe-97c76c1d63d9",
   "metadata": {},
   "outputs": [
    {
     "data": {
      "application/vnd.microsoft.datawrangler.viewer.v0+json": {
       "columns": [
        {
         "name": "index",
         "rawType": "int64",
         "type": "integer"
        },
        {
         "name": "Date",
         "rawType": "datetime64[ns]",
         "type": "datetime"
        },
        {
         "name": "Units_Sold",
         "rawType": "int64",
         "type": "integer"
        },
        {
         "name": "Price_per_Unit",
         "rawType": "float64",
         "type": "float"
        },
        {
         "name": "Total_Sales",
         "rawType": "int64",
         "type": "integer"
        }
       ],
       "ref": "927fb407-d41b-46c4-9dce-15e718e7f1f7",
       "rows": [
        [
         "0",
         "2025-01-01 00:00:00",
         "17",
         "40.2144564127061",
         "202"
        ],
        [
         "1",
         "2025-01-02 00:00:00",
         "10",
         "27.00623497964979",
         "448"
        ],
        [
         "2",
         "2025-01-03 00:00:00",
         "16",
         "18.317666514727552",
         "370"
        ],
        [
         "3",
         "2025-01-04 00:00:00",
         "15",
         "32.70801311279966",
         "206"
        ],
        [
         "4",
         "2025-01-05 00:00:00",
         "15",
         "11.252531698222343",
         "171"
        ]
       ],
       "shape": {
        "columns": 4,
        "rows": 5
       }
      },
      "text/html": [
       "<div>\n",
       "<style scoped>\n",
       "    .dataframe tbody tr th:only-of-type {\n",
       "        vertical-align: middle;\n",
       "    }\n",
       "\n",
       "    .dataframe tbody tr th {\n",
       "        vertical-align: top;\n",
       "    }\n",
       "\n",
       "    .dataframe thead th {\n",
       "        text-align: right;\n",
       "    }\n",
       "</style>\n",
       "<table border=\"1\" class=\"dataframe\">\n",
       "  <thead>\n",
       "    <tr style=\"text-align: right;\">\n",
       "      <th></th>\n",
       "      <th>Date</th>\n",
       "      <th>Units_Sold</th>\n",
       "      <th>Price_per_Unit</th>\n",
       "      <th>Total_Sales</th>\n",
       "    </tr>\n",
       "  </thead>\n",
       "  <tbody>\n",
       "    <tr>\n",
       "      <th>0</th>\n",
       "      <td>2025-01-01</td>\n",
       "      <td>17</td>\n",
       "      <td>40.214456</td>\n",
       "      <td>202</td>\n",
       "    </tr>\n",
       "    <tr>\n",
       "      <th>1</th>\n",
       "      <td>2025-01-02</td>\n",
       "      <td>10</td>\n",
       "      <td>27.006235</td>\n",
       "      <td>448</td>\n",
       "    </tr>\n",
       "    <tr>\n",
       "      <th>2</th>\n",
       "      <td>2025-01-03</td>\n",
       "      <td>16</td>\n",
       "      <td>18.317667</td>\n",
       "      <td>370</td>\n",
       "    </tr>\n",
       "    <tr>\n",
       "      <th>3</th>\n",
       "      <td>2025-01-04</td>\n",
       "      <td>15</td>\n",
       "      <td>32.708013</td>\n",
       "      <td>206</td>\n",
       "    </tr>\n",
       "    <tr>\n",
       "      <th>4</th>\n",
       "      <td>2025-01-05</td>\n",
       "      <td>15</td>\n",
       "      <td>11.252532</td>\n",
       "      <td>171</td>\n",
       "    </tr>\n",
       "  </tbody>\n",
       "</table>\n",
       "</div>"
      ],
      "text/plain": [
       "        Date  Units_Sold  Price_per_Unit  Total_Sales\n",
       "0 2025-01-01          17       40.214456          202\n",
       "1 2025-01-02          10       27.006235          448\n",
       "2 2025-01-03          16       18.317667          370\n",
       "3 2025-01-04          15       32.708013          206\n",
       "4 2025-01-05          15       11.252532          171"
      ]
     },
     "execution_count": 3,
     "metadata": {},
     "output_type": "execute_result"
    }
   ],
   "source": [
    "# Generate Sample Sales Data\n",
    "np.random.seed(42)\n",
    "dates = pd.date_range(start=\"2025-01-01\", periods=30, freq='D')\n",
    "sales = np.random.randint(100, 500, size=30)\n",
    "units = np.random.randint(1, 20, size=30)\n",
    "prices = np.random.uniform(10, 50, size=30)\n",
    "\n",
    "\n",
    "sales_data = pd.DataFrame({\n",
    "'Date': dates,\n",
    "'Units_Sold': units,\n",
    "'Price_per_Unit': prices,\n",
    "'Total_Sales': sales\n",
    "})\n",
    "\n",
    "sales_data.head()\n",
    "\n"
   ]
  },
  {
   "cell_type": "code",
   "execution_count": 4,
   "id": "1e29da51-6c91-4264-a3d0-779b517f6d01",
   "metadata": {},
   "outputs": [
    {
     "data": {
      "application/vnd.microsoft.datawrangler.viewer.v0+json": {
       "columns": [
        {
         "name": "index",
         "rawType": "object",
         "type": "string"
        },
        {
         "name": "Date",
         "rawType": "object",
         "type": "unknown"
        },
        {
         "name": "Units_Sold",
         "rawType": "float64",
         "type": "float"
        },
        {
         "name": "Price_per_Unit",
         "rawType": "float64",
         "type": "float"
        },
        {
         "name": "Total_Sales",
         "rawType": "float64",
         "type": "float"
        }
       ],
       "ref": "c60f3de8-00c8-404a-8120-4ea0f0522637",
       "rows": [
        [
         "count",
         "30",
         "30.0",
         "30.0",
         "30.0"
        ],
        [
         "mean",
         "2025-01-15 12:00:00",
         "11.333333333333334",
         "29.71650906621128",
         "308.43333333333334"
        ],
        [
         "min",
         "2025-01-01 00:00:00",
         "2.0",
         "10.563192908603378",
         "120.0"
        ],
        [
         "25%",
         "2025-01-08 06:00:00",
         "7.0",
         "21.76738029858197",
         "209.75"
        ],
        [
         "50%",
         "2025-01-15 12:00:00",
         "12.0",
         "29.411767867911784",
         "302.5"
        ],
        [
         "75%",
         "2025-01-22 18:00:00",
         "15.75",
         "38.93157940317913",
         "404.25"
        ],
        [
         "max",
         "2025-01-30 00:00:00",
         "19.0",
         "48.61021229056552",
         "485.0"
        ],
        [
         "std",
         null,
         "5.47932372704398",
         "11.209981946066346",
         "109.45088123125757"
        ]
       ],
       "shape": {
        "columns": 4,
        "rows": 8
       }
      },
      "text/html": [
       "<div>\n",
       "<style scoped>\n",
       "    .dataframe tbody tr th:only-of-type {\n",
       "        vertical-align: middle;\n",
       "    }\n",
       "\n",
       "    .dataframe tbody tr th {\n",
       "        vertical-align: top;\n",
       "    }\n",
       "\n",
       "    .dataframe thead th {\n",
       "        text-align: right;\n",
       "    }\n",
       "</style>\n",
       "<table border=\"1\" class=\"dataframe\">\n",
       "  <thead>\n",
       "    <tr style=\"text-align: right;\">\n",
       "      <th></th>\n",
       "      <th>Date</th>\n",
       "      <th>Units_Sold</th>\n",
       "      <th>Price_per_Unit</th>\n",
       "      <th>Total_Sales</th>\n",
       "    </tr>\n",
       "  </thead>\n",
       "  <tbody>\n",
       "    <tr>\n",
       "      <th>count</th>\n",
       "      <td>30</td>\n",
       "      <td>30.000000</td>\n",
       "      <td>30.000000</td>\n",
       "      <td>30.000000</td>\n",
       "    </tr>\n",
       "    <tr>\n",
       "      <th>mean</th>\n",
       "      <td>2025-01-15 12:00:00</td>\n",
       "      <td>11.333333</td>\n",
       "      <td>29.716509</td>\n",
       "      <td>308.433333</td>\n",
       "    </tr>\n",
       "    <tr>\n",
       "      <th>min</th>\n",
       "      <td>2025-01-01 00:00:00</td>\n",
       "      <td>2.000000</td>\n",
       "      <td>10.563193</td>\n",
       "      <td>120.000000</td>\n",
       "    </tr>\n",
       "    <tr>\n",
       "      <th>25%</th>\n",
       "      <td>2025-01-08 06:00:00</td>\n",
       "      <td>7.000000</td>\n",
       "      <td>21.767380</td>\n",
       "      <td>209.750000</td>\n",
       "    </tr>\n",
       "    <tr>\n",
       "      <th>50%</th>\n",
       "      <td>2025-01-15 12:00:00</td>\n",
       "      <td>12.000000</td>\n",
       "      <td>29.411768</td>\n",
       "      <td>302.500000</td>\n",
       "    </tr>\n",
       "    <tr>\n",
       "      <th>75%</th>\n",
       "      <td>2025-01-22 18:00:00</td>\n",
       "      <td>15.750000</td>\n",
       "      <td>38.931579</td>\n",
       "      <td>404.250000</td>\n",
       "    </tr>\n",
       "    <tr>\n",
       "      <th>max</th>\n",
       "      <td>2025-01-30 00:00:00</td>\n",
       "      <td>19.000000</td>\n",
       "      <td>48.610212</td>\n",
       "      <td>485.000000</td>\n",
       "    </tr>\n",
       "    <tr>\n",
       "      <th>std</th>\n",
       "      <td>NaN</td>\n",
       "      <td>5.479324</td>\n",
       "      <td>11.209982</td>\n",
       "      <td>109.450881</td>\n",
       "    </tr>\n",
       "  </tbody>\n",
       "</table>\n",
       "</div>"
      ],
      "text/plain": [
       "                      Date  Units_Sold  Price_per_Unit  Total_Sales\n",
       "count                   30   30.000000       30.000000    30.000000\n",
       "mean   2025-01-15 12:00:00   11.333333       29.716509   308.433333\n",
       "min    2025-01-01 00:00:00    2.000000       10.563193   120.000000\n",
       "25%    2025-01-08 06:00:00    7.000000       21.767380   209.750000\n",
       "50%    2025-01-15 12:00:00   12.000000       29.411768   302.500000\n",
       "75%    2025-01-22 18:00:00   15.750000       38.931579   404.250000\n",
       "max    2025-01-30 00:00:00   19.000000       48.610212   485.000000\n",
       "std                    NaN    5.479324       11.209982   109.450881"
      ]
     },
     "execution_count": 4,
     "metadata": {},
     "output_type": "execute_result"
    }
   ],
   "source": [
    "# Sales Dataset types \n",
    "\n",
    "sales_data.describe()"
   ]
  },
  {
   "cell_type": "markdown",
   "id": "430959bd-0097-4e70-bb3f-dc66df3b133c",
   "metadata": {},
   "source": [
    "**Basic Stastics for the Explotary Data Analysis**"
   ]
  },
  {
   "cell_type": "code",
   "execution_count": 5,
   "id": "027a973a-625e-4ef9-acb0-7634c51f0855",
   "metadata": {},
   "outputs": [],
   "source": [
    "# 1. Basic Statistics\n",
    "def basic_statistics(df):\n",
    "    print(df.describe())\n",
    "    print(\"Mean Sales:\", np.mean(df['Total_Sales']))\n",
    "    print(\"Median Units Sold:\", np.median(df['Units_Sold']))\n",
    "    mode_price = stats.mode(df['Price_per_Unit'], keepdims=True)\n",
    "    print(\"Mode Price:\", mode_price.mode[0])"
   ]
  },
  {
   "cell_type": "code",
   "execution_count": 6,
   "id": "64d2704d-5663-45fa-9e70-3393aa5a903a",
   "metadata": {},
   "outputs": [],
   "source": [
    "# 2. Probability Functions\n",
    "def probability_functions(df):\n",
    "    mean_sales = np.mean(df['Total_Sales'])\n",
    "    std_sales = np.std(df['Total_Sales'], ddof=1)  # sample std\n",
    "    if std_sales > 0:\n",
    "        print(\"Normal PDF for mean sales:\", stats.norm.pdf(mean_sales, mean_sales, std_sales))\n",
    "        print(\"Normal CDF for mean sales:\", stats.norm.cdf(mean_sales, mean_sales, std_sales))\n",
    "    else:\n",
    "        print(\"Standard deviation is zero. PDF/CDF undefined.\")"
   ]
  },
  {
   "cell_type": "code",
   "execution_count": 7,
   "id": "44e9c625-eaed-4bff-8c53-efcd4ea6397a",
   "metadata": {},
   "outputs": [],
   "source": [
    "# 3. Correlation & Covariance\n",
    "def correlation_covariance(df):\n",
    "    print(\"Correlation Matrix:\\n\", df.corr(numeric_only=True))\n",
    "    print(\"Covariance Matrix:\\n\", df.cov(numeric_only=True))"
   ]
  },
  {
   "cell_type": "code",
   "execution_count": 8,
   "id": "58a0892a-f579-4a38-b3c5-b9b04c62a7c0",
   "metadata": {},
   "outputs": [],
   "source": [
    "# 4. Hypothesis Testing\n",
    "def hypothesis_testing(df):\n",
    "    # Test against a fixed value (e.g., 250) instead of mean (which always returns t=0)\n",
    "    t_stat, p_val = stats.ttest_1samp(df['Total_Sales'], popmean=250)\n",
    "    print(\"One-sample t-test vs 250:\", t_stat, p_val)"
   ]
  },
  {
   "cell_type": "code",
   "execution_count": 9,
   "id": "cfa97c50-fe68-43cc-8ec8-4372ee844a8e",
   "metadata": {},
   "outputs": [],
   "source": [
    "# 5. Linear Algebra Example\n",
    "\n",
    "def linear_algebra():\n",
    "    A = np.array([[1, 2], [3, 4]])\n",
    "    B = np.array([[5, 6], [7, 8]])\n",
    "    print(\"Matrix Multiplication A*B:\\n\", np.dot(A, B))\n"
   ]
  },
  {
   "cell_type": "code",
   "execution_count": 10,
   "id": "7ff025a3-5078-47a1-9a45-cc750ba3e81e",
   "metadata": {},
   "outputs": [],
   "source": [
    "# 6. Calculus Example\n",
    "\n",
    "def calculus_example():\n",
    "    x = sp.Symbol('x')\n",
    "    f = x**2 + 3*x + 5\n",
    "    derivative = sp.diff(f, x)\n",
    "    integral = sp.integrate(f, x)\n",
    "    print(\"Derivative of x^2+3x+5:\", derivative)\n",
    "    print(\"Integral of x^2+3x+5:\", integral)\n"
   ]
  },
  {
   "cell_type": "code",
   "execution_count": 12,
   "id": "74269cb6-7659-4093-a6a9-cfd43ea5d068",
   "metadata": {},
   "outputs": [],
   "source": [
    "# 7. Regression Example\n",
    "\n",
    "def regression_example(df):\n",
    "    X = df[['Units_Sold']]\n",
    "    y = df['Total_Sales']\n",
    "    model = LinearRegression()\n",
    "    model.fit(X, y)\n",
    "    print(\"Slope:\", model.coef_[0])\n",
    "    print(\"Intercept:\", model.intercept_)\n",
    "    prediction = model.predict(np.array([[10]]))  # ensure 2D array\n",
    "    print(\"Predict Sales for 10 Units:\", prediction[0])"
   ]
  },
  {
   "cell_type": "markdown",
   "id": "3a396b7d-3cbb-401f-b785-64ead9596ca3",
   "metadata": {},
   "source": [
    "# Visualization Examples\n"
   ]
  },
  {
   "cell_type": "code",
   "execution_count": 13,
   "id": "82799bdc-e609-40e7-a7f3-30f16d2f4dfe",
   "metadata": {},
   "outputs": [],
   "source": [
    "def visualization_examples(df):\n",
    "    sns.histplot(df['Total_Sales'], kde=True)\n",
    "    plt.title(\"Total Sales Distribution\")\n",
    "    plt.show()\n",
    "\n",
    "    sns.boxplot(x=df['Units_Sold'])\n",
    "    plt.title(\"Units Sold Boxplot\")\n",
    "    plt.show()\n",
    "\n",
    "    sns.scatterplot(x='Units_Sold', y='Total_Sales', data=df)\n",
    "    plt.title(\"Units Sold vs Total Sales\")\n",
    "    plt.show()\n",
    "\n",
    "    sns.heatmap(df.corr(numeric_only=True), annot=True, cmap='coolwarm')\n",
    "    plt.title(\"Correlation Heatmap\")\n",
    "    plt.show()\n",
    "\n",
    "    "
   ]
  },
  {
   "cell_type": "markdown",
   "id": "f9113d20-fcb4-4cca-ada2-92dea61853aa",
   "metadata": {},
   "source": [
    "# PCA "
   ]
  },
  {
   "cell_type": "code",
   "execution_count": 14,
   "id": "a40f3cd3-72a5-420b-8fb2-cce440fae804",
   "metadata": {},
   "outputs": [],
   "source": [
    "def pca_example(df):\n",
    "    features = df[['Units_Sold', 'Price_per_Unit', 'Total_Sales']]\n",
    "    pca = PCA(n_components=2)\n",
    "    components = pca.fit_transform(features)\n",
    "    print(\"PCA Components (first 5 rows):\\n\", components[:5])"
   ]
  }
 ],
 "metadata": {
  "kernelspec": {
   "display_name": "base",
   "language": "python",
   "name": "python3"
  },
  "language_info": {
   "codemirror_mode": {
    "name": "ipython",
    "version": 3
   },
   "file_extension": ".py",
   "mimetype": "text/x-python",
   "name": "python",
   "nbconvert_exporter": "python",
   "pygments_lexer": "ipython3",
   "version": "3.12.3"
  }
 },
 "nbformat": 4,
 "nbformat_minor": 5
}
