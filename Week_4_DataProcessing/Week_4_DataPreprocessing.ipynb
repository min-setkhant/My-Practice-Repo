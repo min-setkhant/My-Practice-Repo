{
 "cells": [
  {
   "cell_type": "markdown",
   "id": "bc906240",
   "metadata": {},
   "source": [
    "# Week 4 _Data Processing Practice with the Wealther AUS Data\n",
    "## INFO - 511 - Fundamental of Data Science\n",
    "### To day we are going to learn data preprocessing with the python such as data transforming , \n",
    "A real-world weather dataset (e.g., weatherAUS.csv from Kaggle).\n",
    "\n",
    "A Jupyter Notebook workflow:\n",
    "\n",
    "Load dataset\n",
    "\n",
    "Data cleaning (missing values, datatype conversions)\n",
    "\n",
    "Mean/Median/Mode imputation with visualizations\n",
    "\n",
    "Feature engineering (e.g., date parts, encoding)\n",
    "\n",
    "Simple model with F1 Score for evaluation"
   ]
  },
  {
   "cell_type": "code",
   "execution_count": 2,
   "id": "56cfa874",
   "metadata": {},
   "outputs": [],
   "source": [
    "# Load the necessary packages or libraries\n",
    "import pandas as pd\n",
    "import numpy as np\n",
    "import matplotlib.pyplot as plt\n",
    "import seaborn as sns\n",
    "from sklearn.metrics import f1_score\n",
    "from sklearn.model_selection import train_test_split\n",
    "from sklearn.ensemble import RandomForestClassifier"
   ]
  },
  {
   "cell_type": "code",
   "execution_count": 3,
   "id": "c6463557",
   "metadata": {},
   "outputs": [
    {
     "name": "stdout",
     "output_type": "stream",
     "text": [
      "(145460, 23)\n"
     ]
    },
    {
     "data": {
      "application/vnd.microsoft.datawrangler.viewer.v0+json": {
       "columns": [
        {
         "name": "index",
         "rawType": "int64",
         "type": "integer"
        },
        {
         "name": "Date",
         "rawType": "object",
         "type": "string"
        },
        {
         "name": "Location",
         "rawType": "object",
         "type": "string"
        },
        {
         "name": "MinTemp",
         "rawType": "float64",
         "type": "float"
        },
        {
         "name": "MaxTemp",
         "rawType": "float64",
         "type": "float"
        },
        {
         "name": "Rainfall",
         "rawType": "float64",
         "type": "float"
        },
        {
         "name": "Evaporation",
         "rawType": "float64",
         "type": "float"
        },
        {
         "name": "Sunshine",
         "rawType": "float64",
         "type": "float"
        },
        {
         "name": "WindGustDir",
         "rawType": "object",
         "type": "string"
        },
        {
         "name": "WindGustSpeed",
         "rawType": "float64",
         "type": "float"
        },
        {
         "name": "WindDir9am",
         "rawType": "object",
         "type": "string"
        },
        {
         "name": "WindDir3pm",
         "rawType": "object",
         "type": "string"
        },
        {
         "name": "WindSpeed9am",
         "rawType": "float64",
         "type": "float"
        },
        {
         "name": "WindSpeed3pm",
         "rawType": "float64",
         "type": "float"
        },
        {
         "name": "Humidity9am",
         "rawType": "float64",
         "type": "float"
        },
        {
         "name": "Humidity3pm",
         "rawType": "float64",
         "type": "float"
        },
        {
         "name": "Pressure9am",
         "rawType": "float64",
         "type": "float"
        },
        {
         "name": "Pressure3pm",
         "rawType": "float64",
         "type": "float"
        },
        {
         "name": "Cloud9am",
         "rawType": "float64",
         "type": "float"
        },
        {
         "name": "Cloud3pm",
         "rawType": "float64",
         "type": "float"
        },
        {
         "name": "Temp9am",
         "rawType": "float64",
         "type": "float"
        },
        {
         "name": "Temp3pm",
         "rawType": "float64",
         "type": "float"
        },
        {
         "name": "RainToday",
         "rawType": "object",
         "type": "string"
        },
        {
         "name": "RainTomorrow",
         "rawType": "object",
         "type": "string"
        }
       ],
       "ref": "1aeb2f0e-4204-43ab-a8f0-03f3aa08aabc",
       "rows": [
        [
         "0",
         "2008-12-01",
         "Albury",
         "13.4",
         "22.9",
         "0.6",
         null,
         null,
         "W",
         "44.0",
         "W",
         "WNW",
         "20.0",
         "24.0",
         "71.0",
         "22.0",
         "1007.7",
         "1007.1",
         "8.0",
         null,
         "16.9",
         "21.8",
         "No",
         "No"
        ],
        [
         "1",
         "2008-12-02",
         "Albury",
         "7.4",
         "25.1",
         "0.0",
         null,
         null,
         "WNW",
         "44.0",
         "NNW",
         "WSW",
         "4.0",
         "22.0",
         "44.0",
         "25.0",
         "1010.6",
         "1007.8",
         null,
         null,
         "17.2",
         "24.3",
         "No",
         "No"
        ],
        [
         "2",
         "2008-12-03",
         "Albury",
         "12.9",
         "25.7",
         "0.0",
         null,
         null,
         "WSW",
         "46.0",
         "W",
         "WSW",
         "19.0",
         "26.0",
         "38.0",
         "30.0",
         "1007.6",
         "1008.7",
         null,
         "2.0",
         "21.0",
         "23.2",
         "No",
         "No"
        ],
        [
         "3",
         "2008-12-04",
         "Albury",
         "9.2",
         "28.0",
         "0.0",
         null,
         null,
         "NE",
         "24.0",
         "SE",
         "E",
         "11.0",
         "9.0",
         "45.0",
         "16.0",
         "1017.6",
         "1012.8",
         null,
         null,
         "18.1",
         "26.5",
         "No",
         "No"
        ],
        [
         "4",
         "2008-12-05",
         "Albury",
         "17.5",
         "32.3",
         "1.0",
         null,
         null,
         "W",
         "41.0",
         "ENE",
         "NW",
         "7.0",
         "20.0",
         "82.0",
         "33.0",
         "1010.8",
         "1006.0",
         "7.0",
         "8.0",
         "17.8",
         "29.7",
         "No",
         "No"
        ]
       ],
       "shape": {
        "columns": 23,
        "rows": 5
       }
      },
      "text/html": [
       "<div>\n",
       "<style scoped>\n",
       "    .dataframe tbody tr th:only-of-type {\n",
       "        vertical-align: middle;\n",
       "    }\n",
       "\n",
       "    .dataframe tbody tr th {\n",
       "        vertical-align: top;\n",
       "    }\n",
       "\n",
       "    .dataframe thead th {\n",
       "        text-align: right;\n",
       "    }\n",
       "</style>\n",
       "<table border=\"1\" class=\"dataframe\">\n",
       "  <thead>\n",
       "    <tr style=\"text-align: right;\">\n",
       "      <th></th>\n",
       "      <th>Date</th>\n",
       "      <th>Location</th>\n",
       "      <th>MinTemp</th>\n",
       "      <th>MaxTemp</th>\n",
       "      <th>Rainfall</th>\n",
       "      <th>Evaporation</th>\n",
       "      <th>Sunshine</th>\n",
       "      <th>WindGustDir</th>\n",
       "      <th>WindGustSpeed</th>\n",
       "      <th>WindDir9am</th>\n",
       "      <th>...</th>\n",
       "      <th>Humidity9am</th>\n",
       "      <th>Humidity3pm</th>\n",
       "      <th>Pressure9am</th>\n",
       "      <th>Pressure3pm</th>\n",
       "      <th>Cloud9am</th>\n",
       "      <th>Cloud3pm</th>\n",
       "      <th>Temp9am</th>\n",
       "      <th>Temp3pm</th>\n",
       "      <th>RainToday</th>\n",
       "      <th>RainTomorrow</th>\n",
       "    </tr>\n",
       "  </thead>\n",
       "  <tbody>\n",
       "    <tr>\n",
       "      <th>0</th>\n",
       "      <td>2008-12-01</td>\n",
       "      <td>Albury</td>\n",
       "      <td>13.4</td>\n",
       "      <td>22.9</td>\n",
       "      <td>0.6</td>\n",
       "      <td>NaN</td>\n",
       "      <td>NaN</td>\n",
       "      <td>W</td>\n",
       "      <td>44.0</td>\n",
       "      <td>W</td>\n",
       "      <td>...</td>\n",
       "      <td>71.0</td>\n",
       "      <td>22.0</td>\n",
       "      <td>1007.7</td>\n",
       "      <td>1007.1</td>\n",
       "      <td>8.0</td>\n",
       "      <td>NaN</td>\n",
       "      <td>16.9</td>\n",
       "      <td>21.8</td>\n",
       "      <td>No</td>\n",
       "      <td>No</td>\n",
       "    </tr>\n",
       "    <tr>\n",
       "      <th>1</th>\n",
       "      <td>2008-12-02</td>\n",
       "      <td>Albury</td>\n",
       "      <td>7.4</td>\n",
       "      <td>25.1</td>\n",
       "      <td>0.0</td>\n",
       "      <td>NaN</td>\n",
       "      <td>NaN</td>\n",
       "      <td>WNW</td>\n",
       "      <td>44.0</td>\n",
       "      <td>NNW</td>\n",
       "      <td>...</td>\n",
       "      <td>44.0</td>\n",
       "      <td>25.0</td>\n",
       "      <td>1010.6</td>\n",
       "      <td>1007.8</td>\n",
       "      <td>NaN</td>\n",
       "      <td>NaN</td>\n",
       "      <td>17.2</td>\n",
       "      <td>24.3</td>\n",
       "      <td>No</td>\n",
       "      <td>No</td>\n",
       "    </tr>\n",
       "    <tr>\n",
       "      <th>2</th>\n",
       "      <td>2008-12-03</td>\n",
       "      <td>Albury</td>\n",
       "      <td>12.9</td>\n",
       "      <td>25.7</td>\n",
       "      <td>0.0</td>\n",
       "      <td>NaN</td>\n",
       "      <td>NaN</td>\n",
       "      <td>WSW</td>\n",
       "      <td>46.0</td>\n",
       "      <td>W</td>\n",
       "      <td>...</td>\n",
       "      <td>38.0</td>\n",
       "      <td>30.0</td>\n",
       "      <td>1007.6</td>\n",
       "      <td>1008.7</td>\n",
       "      <td>NaN</td>\n",
       "      <td>2.0</td>\n",
       "      <td>21.0</td>\n",
       "      <td>23.2</td>\n",
       "      <td>No</td>\n",
       "      <td>No</td>\n",
       "    </tr>\n",
       "    <tr>\n",
       "      <th>3</th>\n",
       "      <td>2008-12-04</td>\n",
       "      <td>Albury</td>\n",
       "      <td>9.2</td>\n",
       "      <td>28.0</td>\n",
       "      <td>0.0</td>\n",
       "      <td>NaN</td>\n",
       "      <td>NaN</td>\n",
       "      <td>NE</td>\n",
       "      <td>24.0</td>\n",
       "      <td>SE</td>\n",
       "      <td>...</td>\n",
       "      <td>45.0</td>\n",
       "      <td>16.0</td>\n",
       "      <td>1017.6</td>\n",
       "      <td>1012.8</td>\n",
       "      <td>NaN</td>\n",
       "      <td>NaN</td>\n",
       "      <td>18.1</td>\n",
       "      <td>26.5</td>\n",
       "      <td>No</td>\n",
       "      <td>No</td>\n",
       "    </tr>\n",
       "    <tr>\n",
       "      <th>4</th>\n",
       "      <td>2008-12-05</td>\n",
       "      <td>Albury</td>\n",
       "      <td>17.5</td>\n",
       "      <td>32.3</td>\n",
       "      <td>1.0</td>\n",
       "      <td>NaN</td>\n",
       "      <td>NaN</td>\n",
       "      <td>W</td>\n",
       "      <td>41.0</td>\n",
       "      <td>ENE</td>\n",
       "      <td>...</td>\n",
       "      <td>82.0</td>\n",
       "      <td>33.0</td>\n",
       "      <td>1010.8</td>\n",
       "      <td>1006.0</td>\n",
       "      <td>7.0</td>\n",
       "      <td>8.0</td>\n",
       "      <td>17.8</td>\n",
       "      <td>29.7</td>\n",
       "      <td>No</td>\n",
       "      <td>No</td>\n",
       "    </tr>\n",
       "  </tbody>\n",
       "</table>\n",
       "<p>5 rows × 23 columns</p>\n",
       "</div>"
      ],
      "text/plain": [
       "         Date Location  MinTemp  MaxTemp  Rainfall  Evaporation  Sunshine  \\\n",
       "0  2008-12-01   Albury     13.4     22.9       0.6          NaN       NaN   \n",
       "1  2008-12-02   Albury      7.4     25.1       0.0          NaN       NaN   \n",
       "2  2008-12-03   Albury     12.9     25.7       0.0          NaN       NaN   \n",
       "3  2008-12-04   Albury      9.2     28.0       0.0          NaN       NaN   \n",
       "4  2008-12-05   Albury     17.5     32.3       1.0          NaN       NaN   \n",
       "\n",
       "  WindGustDir  WindGustSpeed WindDir9am  ... Humidity9am  Humidity3pm  \\\n",
       "0           W           44.0          W  ...        71.0         22.0   \n",
       "1         WNW           44.0        NNW  ...        44.0         25.0   \n",
       "2         WSW           46.0          W  ...        38.0         30.0   \n",
       "3          NE           24.0         SE  ...        45.0         16.0   \n",
       "4           W           41.0        ENE  ...        82.0         33.0   \n",
       "\n",
       "   Pressure9am  Pressure3pm  Cloud9am  Cloud3pm  Temp9am  Temp3pm  RainToday  \\\n",
       "0       1007.7       1007.1       8.0       NaN     16.9     21.8         No   \n",
       "1       1010.6       1007.8       NaN       NaN     17.2     24.3         No   \n",
       "2       1007.6       1008.7       NaN       2.0     21.0     23.2         No   \n",
       "3       1017.6       1012.8       NaN       NaN     18.1     26.5         No   \n",
       "4       1010.8       1006.0       7.0       8.0     17.8     29.7         No   \n",
       "\n",
       "   RainTomorrow  \n",
       "0            No  \n",
       "1            No  \n",
       "2            No  \n",
       "3            No  \n",
       "4            No  \n",
       "\n",
       "[5 rows x 23 columns]"
      ]
     },
     "execution_count": 3,
     "metadata": {},
     "output_type": "execute_result"
    }
   ],
   "source": [
    "# load the Weather AUS csv file\n",
    "df = pd.read_csv(\"weatherAUS.csv\")\n",
    "print(df.shape)\n",
    "df.head()\n"
   ]
  },
  {
   "cell_type": "code",
   "execution_count": 4,
   "id": "533d9bd0",
   "metadata": {},
   "outputs": [
    {
     "name": "stdout",
     "output_type": "stream",
     "text": [
      "<class 'pandas.core.frame.DataFrame'>\n",
      "RangeIndex: 145460 entries, 0 to 145459\n",
      "Data columns (total 23 columns):\n",
      " #   Column         Non-Null Count   Dtype  \n",
      "---  ------         --------------   -----  \n",
      " 0   Date           145460 non-null  object \n",
      " 1   Location       145460 non-null  object \n",
      " 2   MinTemp        143975 non-null  float64\n",
      " 3   MaxTemp        144199 non-null  float64\n",
      " 4   Rainfall       142199 non-null  float64\n",
      " 5   Evaporation    82670 non-null   float64\n",
      " 6   Sunshine       75625 non-null   float64\n",
      " 7   WindGustDir    135134 non-null  object \n",
      " 8   WindGustSpeed  135197 non-null  float64\n",
      " 9   WindDir9am     134894 non-null  object \n",
      " 10  WindDir3pm     141232 non-null  object \n",
      " 11  WindSpeed9am   143693 non-null  float64\n",
      " 12  WindSpeed3pm   142398 non-null  float64\n",
      " 13  Humidity9am    142806 non-null  float64\n",
      " 14  Humidity3pm    140953 non-null  float64\n",
      " 15  Pressure9am    130395 non-null  float64\n",
      " 16  Pressure3pm    130432 non-null  float64\n",
      " 17  Cloud9am       89572 non-null   float64\n",
      " 18  Cloud3pm       86102 non-null   float64\n",
      " 19  Temp9am        143693 non-null  float64\n",
      " 20  Temp3pm        141851 non-null  float64\n",
      " 21  RainToday      142199 non-null  object \n",
      " 22  RainTomorrow   142193 non-null  object \n",
      "dtypes: float64(16), object(7)\n",
      "memory usage: 25.5+ MB\n"
     ]
    },
    {
     "data": {
      "application/vnd.microsoft.datawrangler.viewer.v0+json": {
       "columns": [
        {
         "name": "index",
         "rawType": "object",
         "type": "string"
        },
        {
         "name": "0",
         "rawType": "int64",
         "type": "integer"
        }
       ],
       "ref": "0edb66cf-dd87-4746-b845-2febe557347f",
       "rows": [
        [
         "Sunshine",
         "69835"
        ],
        [
         "Evaporation",
         "62790"
        ],
        [
         "Cloud3pm",
         "59358"
        ],
        [
         "Cloud9am",
         "55888"
        ],
        [
         "Pressure9am",
         "15065"
        ],
        [
         "Pressure3pm",
         "15028"
        ],
        [
         "WindDir9am",
         "10566"
        ],
        [
         "WindGustDir",
         "10326"
        ],
        [
         "WindGustSpeed",
         "10263"
        ],
        [
         "Humidity3pm",
         "4507"
        ]
       ],
       "shape": {
        "columns": 1,
        "rows": 10
       }
      },
      "text/plain": [
       "Sunshine         69835\n",
       "Evaporation      62790\n",
       "Cloud3pm         59358\n",
       "Cloud9am         55888\n",
       "Pressure9am      15065\n",
       "Pressure3pm      15028\n",
       "WindDir9am       10566\n",
       "WindGustDir      10326\n",
       "WindGustSpeed    10263\n",
       "Humidity3pm       4507\n",
       "dtype: int64"
      ]
     },
     "execution_count": 4,
     "metadata": {},
     "output_type": "execute_result"
    }
   ],
   "source": [
    "# Check the missing values\n",
    "df.info(verbose=True) \n",
    "\n",
    "df.isnull().sum().sort_values(ascending=False).head(10)\n",
    "\n"
   ]
  },
  {
   "cell_type": "code",
   "execution_count": 5,
   "id": "4e3ceb12",
   "metadata": {},
   "outputs": [],
   "source": [
    "# Handing Missig Values with the Impuatation\n",
    "\n",
    "# Mean Imputation for numeric\n",
    "df[\"MinTemp\"] = df[\"MinTemp\"].fillna(df[\"MinTemp\"].mean())\n",
    "\n",
    "# Median Imputation for  skewd data\n",
    "df[\"Rainfall\"] = df[\"Rainfall\"].fillna(df['Rainfall'].median()) \n",
    "\n",
    "# Mode Imputation for Categorical\n",
    "df[\"WindGustDir\"]= df[\"WindGustDir\"].fillna(df[\"WindGustDir\"].mode())\n"
   ]
  },
  {
   "cell_type": "code",
   "execution_count": 6,
   "id": "3d7fcf35",
   "metadata": {},
   "outputs": [],
   "source": [
    "# Conver Date and extract Features\n",
    "\n",
    "import pandas as pd\n",
    "\n",
    "df['Date'] = pd.to_datetime(df['Date'])\n",
    "df['Year'] = df['Date'].dt.year\n",
    "df['Month'] = df['Date'].dt.month"
   ]
  },
  {
   "cell_type": "code",
   "execution_count": 7,
   "id": "e07d49f5",
   "metadata": {},
   "outputs": [],
   "source": [
    "# Encode Categorical Varibles\n",
    "\n",
    "df['RainTomorrow'] = df['RainTomorrow'].map({'Yes':1, 'No':0})\n",
    "df['WindGustDir'] = df['WindGustDir'].astype('category').cat.codes\n"
   ]
  },
  {
   "cell_type": "code",
   "execution_count": 8,
   "id": "6237d8df",
   "metadata": {},
   "outputs": [
    {
     "data": {
      "image/png": "[encoded data removed]",
      "text/plain": [
       "<Figure size 800x500 with 1 Axes>"
      ]
     },
     "metadata": {},
     "output_type": "display_data"
    }
   ],
   "source": [
    "# Visulization for Before After Imputation (Mean)\n",
    "\n",
    "import seaborn as sns #Necessary library\n",
    "import matplotlib.pyplot as plt #Necessary library\n",
    "\n",
    "plt.figure (figsize=(8,5))\n",
    "sns.histplot( df['MinTemp'], kde= True, color=\"blue\")\n",
    "plt.title('MinTmp after mean impurtation')\n",
    "plt.show()\n",
    "\n"
   ]
  },
  {
   "cell_type": "code",
   "execution_count": 11,
   "id": "421dcb81",
   "metadata": {},
   "outputs": [
    {
     "data": {
      "image/png": "[encoded data removed]",
      "text/plain": [
       "<Figure size 700x500 with 1 Axes>"
      ]
     },
     "metadata": {},
     "output_type": "display_data"
    }
   ],
   "source": [
    "# visulization Before after Mode Imputation\n",
    "plt.figure(figsize=(7,5))\n",
    "sns.histplot(df[\"WindGustDir\"], kde= True, color=\"green\")\n",
    "plt.title(\"Windgustdir after mode imputation\")\n",
    "plt.show()"
   ]
  },
  {
   "cell_type": "code",
   "execution_count": 12,
   "id": "a95276cf",
   "metadata": {},
   "outputs": [
    {
     "name": "stdout",
     "output_type": "stream",
     "text": [
      "F1 Score: 0.36352693349383086\n"
     ]
    }
   ],
   "source": [
    "# Drop rows with remaining missing values\n",
    "df = df.dropna()\n",
    "\n",
    "# Features & target\n",
    "X = df[['MinTemp', 'Rainfall', 'WindGustDir', 'Month']]\n",
    "y = df['RainTomorrow']\n",
    "\n",
    "# Train-test split\n",
    "X_train, X_test, y_train, y_test = train_test_split(X, y, test_size=0.3, random_state=42)\n",
    "\n",
    "# Model\n",
    "model = RandomForestClassifier()\n",
    "model.fit(X_train, y_train)\n",
    "\n",
    "# Predictions\n",
    "y_pred = model.predict(X_test)\n",
    "\n",
    "# F1 Score\n",
    "score = f1_score(y_test, y_pred)\n",
    "print(\"F1 Score:\", score)\n"
   ]
  },
  {
   "cell_type": "code",
   "execution_count": null,
   "id": "a2d4960e",
   "metadata": {},
   "outputs": [],
   "source": []
  }
 ],
 "metadata": {
  "kernelspec": {
   "display_name": "base",
   "language": "python",
   "name": "python3"
  },
  "language_info": {
   "codemirror_mode": {
    "name": "ipython",
    "version": 3
   },
   "file_extension": ".py",
   "mimetype": "text/x-python",
   "name": "python",
   "nbconvert_exporter": "python",
   "pygments_lexer": "ipython3",
   "version": "3.12.7"
  }
 },
 "nbformat": 4,
 "nbformat_minor": 5
}
